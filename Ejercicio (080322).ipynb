{
  "nbformat": 4,
  "nbformat_minor": 0,
  "metadata": {
    "colab": {
      "name": "Untitled6.ipynb",
      "provenance": []
    },
    "kernelspec": {
      "name": "python3",
      "display_name": "Python 3"
    },
    "language_info": {
      "name": "python"
    }
  },
  "cells": [
    {
      "cell_type": "markdown",
      "source": [
        "**Ejercicio (080322):**\n",
        "\n",
        "Escribir el código para la subrutina que genera  Ts ."
      ],
      "metadata": {
        "id": "ngtisQ7pL2e2"
      }
    },
    {
      "cell_type": "code",
      "execution_count": null,
      "metadata": {
        "id": "QTIJfsoXLuhN"
      },
      "outputs": [],
      "source": [
        "tpell= 2.0             # Tiempo promedio entre llegadas\n",
        "T = 15                 # Tiempo total de la simulación\n",
        "\n",
        "N = 0                  # Variable de estado: número de llegadas\n",
        "\n",
        "t = 0                  # Hora de simulación actual\n",
        "\n",
        "\n",
        "while t <= T:\n",
        "    N = N + 1\n",
        "    # Avance del tiempo simulado\n",
        "    t = t + expovariate(1/tpll)\n",
        "\n",
        "print('Número total de llegadas = ', N)"
      ]
    }
  ]
}